{
 "cells": [
  {
   "cell_type": "code",
   "execution_count": 1,
   "id": "a0a99541-7b80-4530-8c43-7d7670893504",
   "metadata": {
    "tags": []
   },
   "outputs": [],
   "source": [
    "import numpy as np\n",
    "import matplotlib.pyplot as plt"
   ]
  },
  {
   "cell_type": "code",
   "execution_count": 2,
   "id": "bf30b3f6-c15c-4516-a2dc-233d21c1947d",
   "metadata": {
    "tags": []
   },
   "outputs": [],
   "source": [
    "radars = np.expand_dims(np.load('data/radars.npy'), 1)\n",
    "gfs = np.load('data/gfs.npy')\n",
    "glorys = np.load('data/glorys.npy')"
   ]
  },
  {
   "cell_type": "code",
   "execution_count": 3,
   "id": "f13ad025-c218-4b15-a676-54a4d42f96e5",
   "metadata": {
    "tags": []
   },
   "outputs": [],
   "source": [
    "gfs[:142,0] = gfs[:142,0]*0.72\n",
    "gfs[706,0] = 0.6"
   ]
  },
  {
   "cell_type": "code",
   "execution_count": 6,
   "id": "6179c557-63c7-48c4-b7ad-0557d96ad297",
   "metadata": {
    "tags": []
   },
   "outputs": [],
   "source": [
    "glorys[:,2] = np.clip(glorys[:,2],0,1)"
   ]
  },
  {
   "cell_type": "code",
   "execution_count": 9,
   "id": "83fbd9ce-b586-41e0-8cfa-696fe978ac7f",
   "metadata": {
    "tags": []
   },
   "outputs": [
    {
     "data": {
      "text/plain": [
       "(791, 7, 825, 200)"
      ]
     },
     "execution_count": 9,
     "metadata": {},
     "output_type": "execute_result"
    }
   ],
   "source": [
    "data = np.concatenate([radars,gfs,glorys],1)\n",
    "data.shape"
   ]
  },
  {
   "cell_type": "code",
   "execution_count": 10,
   "id": "92125264-8022-411e-91bb-cd673fb51583",
   "metadata": {
    "tags": []
   },
   "outputs": [
    {
     "data": {
      "text/plain": [
       "(791, 7, 824, 200)"
      ]
     },
     "execution_count": 10,
     "metadata": {},
     "output_type": "execute_result"
    }
   ],
   "source": [
    "data = data[:,:,:-1]\n",
    "data.shape"
   ]
  },
  {
   "cell_type": "code",
   "execution_count": 44,
   "id": "7fd55679-5d93-49f0-9020-8397f60822cd",
   "metadata": {
    "tags": []
   },
   "outputs": [
    {
     "name": "stdout",
     "output_type": "stream",
     "text": [
      "0.0 0.149453389451878 0.7770456790924072\n"
     ]
    }
   ],
   "source": [
    "rad = np.clip(data[:,0]-0.3, 0, 2)\n",
    "print(rad.min(), rad.mean(), rad.max())"
   ]
  },
  {
   "cell_type": "code",
   "execution_count": 45,
   "id": "a9aff006-0764-4561-bbfc-8c20de0cc277",
   "metadata": {
    "tags": []
   },
   "outputs": [
    {
     "data": {
      "text/plain": [
       "1.0"
      ]
     },
     "execution_count": 45,
     "metadata": {},
     "output_type": "execute_result"
    }
   ],
   "source": [
    "rad = rad/rad.max()\n",
    "rad.max()"
   ]
  },
  {
   "cell_type": "code",
   "execution_count": 55,
   "id": "8446ae2c-cf18-4563-bd5f-2a09152fb474",
   "metadata": {
    "tags": []
   },
   "outputs": [],
   "source": [
    "data[:,0]=rad"
   ]
  },
  {
   "cell_type": "code",
   "execution_count": 62,
   "id": "1fd88ab9-b7d7-42e4-843a-f1a6387ef040",
   "metadata": {
    "tags": []
   },
   "outputs": [],
   "source": [
    "np.save('data.npy',data)"
   ]
  },
  {
   "cell_type": "code",
   "execution_count": 125,
   "id": "1a645e5d-cb7b-4f5b-bc96-f2baa0969168",
   "metadata": {
    "tags": []
   },
   "outputs": [
    {
     "data": {
      "text/plain": [
       "(791, 1, 824, 200)"
      ]
     },
     "execution_count": 125,
     "metadata": {},
     "output_type": "execute_result"
    }
   ],
   "source": [
    "time = np.cos((np.arange(791)-76)/364*2*np.pi)\n",
    "coef = 0.5 + 0.2*time\n",
    "embs = [np.sin(c*np.arange(824).reshape((-1,1))) * np.sin(c*np.arange(200).reshape((1,-1))) for c in coef.tolist()]\n",
    "timeemb = np.expand_dims(np.stack(embs),1)\n",
    "timeemb.shape"
   ]
  },
  {
   "cell_type": "code",
   "execution_count": 126,
   "id": "29c2c005-0b31-4946-946a-6034fd1686a3",
   "metadata": {
    "tags": []
   },
   "outputs": [
    {
     "data": {
      "text/plain": [
       "(791, 1, 824, 200)"
      ]
     },
     "execution_count": 126,
     "metadata": {},
     "output_type": "execute_result"
    }
   ],
   "source": [
    "mask = (plt.imread('mask.png')<0.5)[:-1,:,0]\n",
    "mask = np.tile(np.expand_dims(mask, (0,1)), (791,1,1,1))\n",
    "mask.shape"
   ]
  },
  {
   "cell_type": "code",
   "execution_count": 127,
   "id": "faf4b467-e78f-4e50-9b57-1ee4f2e22285",
   "metadata": {
    "tags": []
   },
   "outputs": [
    {
     "data": {
      "text/plain": [
       "(791, 1, 824, 200)"
      ]
     },
     "execution_count": 127,
     "metadata": {},
     "output_type": "execute_result"
    }
   ],
   "source": [
    "np.expand_dims(np.stack(embs),1).shape"
   ]
  },
  {
   "cell_type": "code",
   "execution_count": 129,
   "id": "a1c12dd7-7233-4a87-ad06-2dd141cc1305",
   "metadata": {
    "tags": []
   },
   "outputs": [],
   "source": [
    "np.save('dataT.npy', np.concatenate((\n",
    "    data[:,:4], \n",
    "    timeemb, \n",
    "    data[:,4:]\n",
    "),1))\n",
    "np.save('dataTM.npy', np.concatenate((\n",
    "    data[:,:4], \n",
    "    timeemb,  \n",
    "    mask,\n",
    "    data[:,4:]\n",
    "),1))"
   ]
  },
  {
   "cell_type": "code",
   "execution_count": null,
   "id": "d2486fab-47f2-4de8-8c45-0bbcf426a611",
   "metadata": {},
   "outputs": [],
   "source": []
  }
 ],
 "metadata": {
  "kernelspec": {
   "display_name": "Python 3 (ipykernel)",
   "language": "python",
   "name": "python3"
  },
  "language_info": {
   "codemirror_mode": {
    "name": "ipython",
    "version": 3
   },
   "file_extension": ".py",
   "mimetype": "text/x-python",
   "name": "python",
   "nbconvert_exporter": "python",
   "pygments_lexer": "ipython3",
   "version": "3.10.9"
  }
 },
 "nbformat": 4,
 "nbformat_minor": 5
}
